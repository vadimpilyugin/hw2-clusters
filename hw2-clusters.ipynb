{
 "cells": [
  {
   "cell_type": "markdown",
   "metadata": {
    "deletable": true,
    "editable": true
   },
   "source": [
    "# Алгоритмы интеллектуальной обработки больших объемов данных\n",
    "## Домашнее задание №2 - Алгоритмы кластеризации\n"
   ]
  },
  {
   "cell_type": "markdown",
   "metadata": {
    "deletable": true,
    "editable": true
   },
   "source": [
    "###### <hr\\>\n",
    "**Общая информация**\n",
    "\n",
    "**Срок сдачи:** 13 марта 2017, 06:00 <br\\>\n",
    "**Штраф за опоздание:** -2 балла после 06:00 13 марта, -4 балла после 06:00 20 марта, -6 баллов после 06:00 27 марта\n",
    "\n",
    "Отправлять дз не нужно, нужно закоммитить в github. Сдается дз лично преподавателю на рубежном контроле (13 марта)\n",
    "\n",
    "Используйте данный Ipython Notebook при оформлении домашнего задания.\n",
    "<hr\\>"
   ]
  },
  {
   "cell_type": "markdown",
   "metadata": {
    "deletable": true,
    "editable": true
   },
   "source": [
    "Основная задача этого задания - реализация одного из алгоритмов кластеризации. Кроме того, мы научимся подбирать параметры алгоритма, визуализируем результат кластеризации и попытаемся проанализировать природу полученных кластеров."
   ]
  },
  {
   "cell_type": "code",
   "execution_count": 207,
   "metadata": {
    "collapsed": false,
    "deletable": true,
    "editable": true
   },
   "outputs": [
    {
     "name": "stdout",
     "output_type": "stream",
     "text": [
      "Populating the interactive namespace from numpy and matplotlib\n"
     ]
    }
   ],
   "source": [
    "import pandas as pd\n",
    "import pylab as pl\n",
    "import numpy as np\n",
    "import scipy.spatial as ss\n",
    "import sklearn.cluster as sc\n",
    "import sklearn.manifold as sm\n",
    "import sklearn.datasets as ds\n",
    "import sklearn.metrics as smt\n",
    "\n",
    "import matplotlib.pyplot as plt\n",
    "import mpl_toolkits.basemap as bm\n",
    "\n",
    "%matplotlib inline\n",
    "\n",
    "plt.style.use('ggplot')\n",
    "plt.rcParams['figure.figsize'] = (12,5)\n",
    "\n",
    "# Plotting config\n",
    "%pylab inline"
   ]
  },
  {
   "cell_type": "markdown",
   "metadata": {
    "deletable": true,
    "editable": true
   },
   "source": [
    "## Реализация алгоритма"
   ]
  },
  {
   "cell_type": "markdown",
   "metadata": {
    "deletable": true,
    "editable": true
   },
   "source": [
    "Cчитываем данные, полученные в результате выполнения домашнего задания из курса введения, в `data frame` библиотеки `pandas`. Достаем координаты и конвертируем в массив `numpy`. Возможно, в собранном вами файле кодировка будет иной."
   ]
  },
  {
   "cell_type": "code",
   "execution_count": 208,
   "metadata": {
    "collapsed": false,
    "deletable": true,
    "editable": true
   },
   "outputs": [
    {
     "data": {
      "text/html": [
       "<div>\n",
       "<table border=\"1\" class=\"dataframe\">\n",
       "  <thead>\n",
       "    <tr style=\"text-align: right;\">\n",
       "      <th></th>\n",
       "      <th>address</th>\n",
       "      <th>checkins</th>\n",
       "      <th>city</th>\n",
       "      <th>country</th>\n",
       "      <th>created</th>\n",
       "      <th>icon</th>\n",
       "      <th>latitude</th>\n",
       "      <th>longitude</th>\n",
       "      <th>pid</th>\n",
       "      <th>title</th>\n",
       "      <th>type</th>\n",
       "      <th>updated</th>\n",
       "    </tr>\n",
       "  </thead>\n",
       "  <tbody>\n",
       "    <tr>\n",
       "      <th>0</th>\n",
       "      <td>Мячковский б-р 3а</td>\n",
       "      <td>435</td>\n",
       "      <td>1</td>\n",
       "      <td>1</td>\n",
       "      <td>1280741941</td>\n",
       "      <td>https://vk.com/images/places/clubs.png</td>\n",
       "      <td>55.657941</td>\n",
       "      <td>37.751574</td>\n",
       "      <td>1</td>\n",
       "      <td>Baila Baila</td>\n",
       "      <td>4</td>\n",
       "      <td>1.487519e+09</td>\n",
       "    </tr>\n",
       "    <tr>\n",
       "      <th>1</th>\n",
       "      <td>Дачная 2а</td>\n",
       "      <td>14</td>\n",
       "      <td>123</td>\n",
       "      <td>1</td>\n",
       "      <td>1280741941</td>\n",
       "      <td>https://vk.com/images/places/clubs.png</td>\n",
       "      <td>53.202017</td>\n",
       "      <td>50.141377</td>\n",
       "      <td>2</td>\n",
       "      <td>Lust</td>\n",
       "      <td>4</td>\n",
       "      <td>1.483478e+09</td>\n",
       "    </tr>\n",
       "    <tr>\n",
       "      <th>2</th>\n",
       "      <td>Лени Голикова 29</td>\n",
       "      <td>8</td>\n",
       "      <td>2</td>\n",
       "      <td>1</td>\n",
       "      <td>1280741941</td>\n",
       "      <td>https://vk.com/images/places/clubs.png</td>\n",
       "      <td>59.843376</td>\n",
       "      <td>30.231480</td>\n",
       "      <td>3</td>\n",
       "      <td>Тайфун</td>\n",
       "      <td>4</td>\n",
       "      <td>1.486398e+09</td>\n",
       "    </tr>\n",
       "    <tr>\n",
       "      <th>3</th>\n",
       "      <td>Героев Танкограда 63</td>\n",
       "      <td>8</td>\n",
       "      <td>158</td>\n",
       "      <td>1</td>\n",
       "      <td>1280741941</td>\n",
       "      <td>https://vk.com/images/places/clubs.png</td>\n",
       "      <td>55.174954</td>\n",
       "      <td>61.451611</td>\n",
       "      <td>4</td>\n",
       "      <td>Hollywood</td>\n",
       "      <td>4</td>\n",
       "      <td>1.470157e+09</td>\n",
       "    </tr>\n",
       "    <tr>\n",
       "      <th>4</th>\n",
       "      <td>Мусы Джалиля 14К1</td>\n",
       "      <td>38</td>\n",
       "      <td>99</td>\n",
       "      <td>1</td>\n",
       "      <td>1280741941</td>\n",
       "      <td>https://vk.com/images/places/clubs.png</td>\n",
       "      <td>54.860834</td>\n",
       "      <td>83.091932</td>\n",
       "      <td>5</td>\n",
       "      <td>Барабас</td>\n",
       "      <td>4</td>\n",
       "      <td>1.488720e+09</td>\n",
       "    </tr>\n",
       "  </tbody>\n",
       "</table>\n",
       "</div>"
      ],
      "text/plain": [
       "                address  checkins  city  country     created  \\\n",
       "0     Мячковский б-р 3а       435     1        1  1280741941   \n",
       "1             Дачная 2а        14   123        1  1280741941   \n",
       "2      Лени Голикова 29         8     2        1  1280741941   \n",
       "3  Героев Танкограда 63         8   158        1  1280741941   \n",
       "4     Мусы Джалиля 14К1        38    99        1  1280741941   \n",
       "\n",
       "                                     icon   latitude  longitude  pid  \\\n",
       "0  https://vk.com/images/places/clubs.png  55.657941  37.751574    1   \n",
       "1  https://vk.com/images/places/clubs.png  53.202017  50.141377    2   \n",
       "2  https://vk.com/images/places/clubs.png  59.843376  30.231480    3   \n",
       "3  https://vk.com/images/places/clubs.png  55.174954  61.451611    4   \n",
       "4  https://vk.com/images/places/clubs.png  54.860834  83.091932    5   \n",
       "\n",
       "         title  type       updated  \n",
       "0  Baila Baila     4  1.487519e+09  \n",
       "1         Lust     4  1.483478e+09  \n",
       "2       Тайфун     4  1.486398e+09  \n",
       "3    Hollywood     4  1.470157e+09  \n",
       "4      Барабас     4  1.488720e+09  "
      ]
     },
     "execution_count": 208,
     "metadata": {},
     "output_type": "execute_result"
    }
   ],
   "source": [
    "data_df = pd.read_csv(\"vk5000.csv\", sep=\",\", header=0, encoding='utf-8')\n",
    "data_df = data_df.drop(\"Unnamed: 0\", axis=1)\n",
    "data_df.head()"
   ]
  },
  {
   "cell_type": "code",
   "execution_count": 209,
   "metadata": {
    "collapsed": false,
    "deletable": true,
    "editable": true
   },
   "outputs": [
    {
     "data": {
      "text/plain": [
       "array([[ 55.657941,  37.751574],\n",
       "       [ 53.202017,  50.141377],\n",
       "       [ 59.843376,  30.23148 ],\n",
       "       ..., \n",
       "       [ 55.76363 ,  37.597046],\n",
       "       [ 56.002732,  37.209755],\n",
       "       [ 47.225695,  39.72997 ]])"
      ]
     },
     "execution_count": 209,
     "metadata": {},
     "output_type": "execute_result"
    }
   ],
   "source": [
    "x = data_df[['latitude', 'longitude']].values\n",
    "x"
   ]
  },
  {
   "cell_type": "markdown",
   "metadata": {
    "deletable": true,
    "editable": true
   },
   "source": [
    "Алгоритм кластеризации, который необходимо реализовать, выбирается на основании Вашего порядкового номера в списке группы."
   ]
  },
  {
   "cell_type": "markdown",
   "metadata": {
    "deletable": true,
    "editable": true
   },
   "source": [
    "1 Баранчиков Максим\t\n",
    "2 Бекбулатов Рамзан\t\n",
    "3 Белозёров Михаил\t\n",
    "4 Бобылев Владислав\t\n",
    "5 Брызгалов Антон\t\n",
    "6 Будюк Алексей\t\n",
    "7 Валиуллин Альберт\t\n",
    "8 Валиуллин Артур\t\n",
    "9 Васильев Евгений\t\n",
    "10 Галицкий Игорь\t\n",
    "11 Горшков Сергей\t\n",
    "12 Гусев Вячеслав\t\n",
    "13 Дегтярев Роман\t\n",
    "14 Дементьев Максим\t\n",
    "15 Елохов Артур\t\n",
    "16 Ефимов Владислав\t\n",
    "17 Зайцев Александр\t\n",
    "18 Ильин Иван\t\n",
    "19 Имеев Мерген\t\n",
    "20 Камалбеков Тимур\t\n",
    "21 Капитонов Александр\t\n",
    "22 Каспарьянц Георгий\t\n",
    "23 Кафанов Олег\t\n",
    "24 Клейменов Андрей\t\n",
    "25 Козлов Иван\t\n",
    "26 Колмакова Татьяна\t\n",
    "27 Комов Евгений\t\n",
    "28 Крылов Иван\t\n",
    "29 Кузьмина Ирина\t\n",
    "30 Куклева Анна\t\n",
    "31 Курьянов Илья\t\n",
    "32 Лобанов Алексей\t\n",
    "33 Лозинский Иван\t\n",
    "34 Лузин Игорь\t\n",
    "35 Лукьянчиков Иван\t\n",
    "36 Неред Максим\t\n",
    "37 Новикова Анастасия\t\n",
    "38 Новичков Сергей\t\n",
    "39 Омаров Темирхан\t\n",
    "40 Павлова Анастасия\t\n",
    "41 Петренко Иван\t\n",
    "42 Пилюгин Вадим\t\n",
    "43 Плошкин Александр\t\n",
    "44 Полякова Вера\t\n",
    "45 Попкова Екатерина\t\n",
    "46 Преображенский Анатолий\t\n",
    "47 Пронин Сергей\t\n",
    "48 Пучкин Данила\t\n",
    "49 Рогачев Александр\t\n",
    "50 Руденко Дмитрий\t\n",
    "51 Рыбаков Владислав\t\n",
    "52 Санников Артём\t\n",
    "53 Скиба Глеб\t\n",
    "54 Страдомский Сергей\t\n",
    "55 Тескер Константин\t\n",
    "56 Трифанов Петр\t\n",
    "57 Хапкин Артем\t\n",
    "58 Хорошенький Илья\t\n",
    "59 Чокля Дмитрий\t\n",
    "60 Шмурак Денис\t\n",
    "61 Щербакова Елена\t"
   ]
  },
  {
   "cell_type": "code",
   "execution_count": 210,
   "metadata": {
    "collapsed": true,
    "deletable": true,
    "editable": true
   },
   "outputs": [],
   "source": [
    "N = 42 # put your index here"
   ]
  },
  {
   "cell_type": "code",
   "execution_count": 211,
   "metadata": {
    "collapsed": false,
    "deletable": true,
    "editable": true
   },
   "outputs": [
    {
     "name": "stdout",
     "output_type": "stream",
     "text": [
      "Реализуем алгоритм кластеризации 'DBSCAN. (параметры - epsilon, min_pts)'\n"
     ]
    }
   ],
   "source": [
    "algorithms = [\n",
    "    u\"Gaussian Mixture Model с использованием maximum a-posteriori для выбора кластера (параметр - k)\",\n",
    "    u\"Hierarchical clustering с поддержкой single-linkage, complete-linkage, average-linkage (параметры - k, linkage)\",\n",
    "    u\"DBSCAN. (параметры - epsilon, min_pts)\", \n",
    "    u\"OPTICS. (параметры - epsilon, min_pts)\"\n",
    "]\n",
    "\n",
    "my_algorithm = algorithms[N % len(algorithms)]\n",
    "print u\"Реализуем алгоритм кластеризации '%s'\" % my_algorithm"
   ]
  },
  {
   "cell_type": "markdown",
   "metadata": {
    "deletable": true,
    "editable": true
   },
   "source": [
    "Алгоритм кластеризации должен удовлетворять следующему интерфейсу. Конструктор принимает набор параметров, необходимых для работы алгоритма кластеризации. Метод `fit` подсчитывает параметры модели и возвращает `self`. Метод `predict` возвращает вектор с индексами кластеров для поданных в него объектов `x`"
   ]
  },
  {
   "cell_type": "code",
   "execution_count": 218,
   "metadata": {
    "collapsed": false,
    "deletable": true,
    "editable": true
   },
   "outputs": [
    {
     "name": "stdout",
     "output_type": "stream",
     "text": [
      "[ 9 10 10 10  6  4  9  6  6  9]\n",
      "10\n"
     ]
    },
    {
     "data": {
      "text/plain": [
       "array([0, 1, 2, 3, 4, 5, 6, 7, 8, 9])"
      ]
     },
     "execution_count": 218,
     "metadata": {},
     "output_type": "execute_result"
    }
   ],
   "source": [
    "a = np.random.randint(10,size=10)\n",
    "ind = np.array([1,2,3])\n",
    "a[ind] = 10\n",
    "print a\n",
    "a[1] = 9\n",
    "print np.size(a)\n",
    "b = np.empty(shape=0)\n",
    "np.append(b,10)\n",
    "a = np.ones(shape=10,dtype=bool)\n",
    "np.where(a)[0]"
   ]
  },
  {
   "cell_type": "code",
   "execution_count": 222,
   "metadata": {
    "collapsed": false,
    "deletable": true,
    "editable": true
   },
   "outputs": [],
   "source": [
    "from sklearn.base import BaseEstimator, ClusterMixin\n",
    "\n",
    "class Clustering(BaseEstimator, ClusterMixin):\n",
    "    \"\"\"\n",
    "    Implement clustering algorithm according \n",
    "    \"\"\"\n",
    "    # Набор констант\n",
    "    UNCLASSIFIED = -1\n",
    "    NOISE = -2\n",
    "    CORE_POINT = 1\n",
    "    NOT_CORE_POINT = 0\n",
    "        \n",
    "    def __init__(self,eps,min_pts):\n",
    "        \"\"\"\n",
    "        Please add necessary algoritm parameters to class constructor.\n",
    "        \"\"\"\n",
    "        self.eps = eps\n",
    "        self.min_pts = min_pts\n",
    "        return\n",
    "        \n",
    "    def get_epsilon_neighbours(self,index,points,unclassified=False):\n",
    "        distances = np.linalg.norm(points-points[index], axis=1)\n",
    "        eps_neighbours = distances <= self.eps\n",
    "        eps_neighbours[index] = False # сама точка не входит в число соседей\n",
    "        if unclassified:\n",
    "            eps_neighbours = eps_neighbours & ((self.labels == self.UNCLASSIFIED)|(self.labels == self.NOISE))\n",
    "        return np.where(eps_neighbours)[0]\n",
    "                    \n",
    "    \n",
    "    def expand(self,index,cluster_id,points):\n",
    "        return_value = self.NOT_CORE_POINT\n",
    "        seeds = self.get_epsilon_neighbours(index,points) # для данной точки берем всех ее соседей\n",
    "        if len(seeds) < self.min_pts:\n",
    "            self.labels[index] = self.NOISE # если соседей недостаточно, то помечаем ее как шум\n",
    "        else:\n",
    "            self.labels[index] = cluster_id # иначе добавляем в кластер\n",
    "            # Смотрим, как далеко кластер распространяется\n",
    "            # Для каждой точки, достижимой из начальной, берем ее соседей и присваиваем их в тот же кластер\n",
    "            # Делаем это рекурсивно, пока таких точек не останется\n",
    "            while np.size(seeds) > 0:\n",
    "                self.labels[seeds] = cluster_id # Добавляем всех соседей в тот же кластер\n",
    "                new_seeds = np.empty(shape=0,dtype=int)\n",
    "                for j in xrange(np.size(seeds)):\n",
    "                    point = seeds[j]\n",
    "                    neighbours = self.get_epsilon_neighbours(point,points,unclassified=True)\n",
    "                    new_seeds = np.append(new_seeds,neighbours)\n",
    "                seeds = np.unique(new_seeds)\n",
    "            return_value = self.CORE_POINT\n",
    "        return return_value\n",
    "    \n",
    "    def fit(self, x, y=None):\n",
    "        \"\"\"\n",
    "        Use data matrix x to compute model parameters\n",
    "        \"\"\"\n",
    "        self.x_len = len(x)\n",
    "        self.labels = np.array(xrange(0,self.x_len))\n",
    "        self.labels.fill(self.UNCLASSIFIED)  # сначала все точки не классифицированы\n",
    "        # Пройтись по всем точкам. Если не классифицирована, то посмотреть, достаточно ли у нее соседей.\n",
    "        # Достаточно => основать новый кластер и расширить его. Нет => пометить точку как шум(в будущем может измениться)\n",
    "        cluster_id = 0\n",
    "        for i in xrange(0,self.x_len):\n",
    "            if self.labels[i] == self.UNCLASSIFIED:\n",
    "                if self.expand(i,cluster_id,x) == self.CORE_POINT:\n",
    "                    cluster_id += 1\n",
    "        return self\n",
    "    \n",
    "    def predict(self, x):\n",
    "        \"\"\"\n",
    "        Using computed model parameters predict cluster\n",
    "        for all objects from x\n",
    "        \"\"\"\n",
    "        self.fit(x)\n",
    "        return self.labels\n",
    "        \n",
    "    def fit_predict(self, x, y=None):\n",
    "        self.fit(x, y)\n",
    "        return self.labels"
   ]
  },
  {
   "cell_type": "markdown",
   "metadata": {
    "deletable": true,
    "editable": true
   },
   "source": [
    "Сначала проверим реализованный алгоритм кластеризации на классическом наборе данных [Iris](http://www.wikiwand.com/en/Iris_flower_data_set). Загрузим данные (они включены в библиотеку sklearn) и посмотрим на то, как они выглядят в двух проекциях (для простоты используем 2 класса из 3)."
   ]
  },
  {
   "cell_type": "code",
   "execution_count": 223,
   "metadata": {
    "collapsed": false,
    "deletable": true,
    "editable": true
   },
   "outputs": [
    {
     "data": {
      "image/png": "[encoded data removed]",
      "text/plain": [
       "<matplotlib.figure.Figure at 0x7f582cf9a990>"
      ]
     },
     "metadata": {},
     "output_type": "display_data"
    }
   ],
   "source": [
    "iris = ds.load_iris()\n",
    "x_iris = iris.data[:100]\n",
    "y_iris = iris.target[:100]\n",
    "\n",
    "pl.figure(figsize=(10, 5))\n",
    "\n",
    "pl.subplot(1, 2, 1)\n",
    "pl.scatter(x_iris[:, 0], x_iris[:, 1], c=y_iris, cmap=pl.cm.PuOr, lw=0, s=30)\n",
    "plt.xlabel('Sepal length')\n",
    "plt.ylabel('Sepal width')\n",
    "\n",
    "pred_iris = Clustering(.7,4).fit_predict(x_iris)\n",
    "pl.subplot(1, 2, 2)\n",
    "pl.scatter(x_iris[:, 0], x_iris[:, 1], c=pred_iris, cmap=pl.cm.PuOr, lw=0, s=30)\n",
    "plt.xlabel('Sepal length')\n",
    "plt.ylabel('Sepal width')\n",
    "pl.show()"
   ]
  },
  {
   "cell_type": "markdown",
   "metadata": {
    "deletable": true,
    "editable": true
   },
   "source": [
    "Видно, что классы разделяются, поэтому можно надеяться, что наш алгоритм \"найдет\" кластеры, соответствующие исходным классам. Результат работы реализованного алгоритма кластеризации предлагается сравнить с эталонной кластеризацией. Для этого предлагается изучить метрику ([adjusted rand score](http://scikit-learn.org/stable/modules/generated/sklearn.metrics.adjusted_rand_score.html)). В случае если значение этой метрики отличается от 1, предлагается поработать над улучшением реализации своего алгоритма."
   ]
  },
  {
   "cell_type": "code",
   "execution_count": 224,
   "metadata": {
    "collapsed": false,
    "deletable": true,
    "editable": true
   },
   "outputs": [
    {
     "name": "stdout",
     "output_type": "stream",
     "text": [
      "Adjusted Rand index for iris is: 1.00\n"
     ]
    }
   ],
   "source": [
    "pred_iris = Clustering(.7,3).fit_predict(x_iris)\n",
    "print \"Adjusted Rand index for iris is: %.2f\" % smt.adjusted_rand_score(y_iris, pred_iris)"
   ]
  },
  {
   "cell_type": "markdown",
   "metadata": {
    "deletable": true,
    "editable": true
   },
   "source": [
    "Выбрать и реализовать критерий качества, на основании которого будут подбираться параметры модели. Варианты критериев:\n",
    "- Инерция (сумма квадратов расстояний от каждой из точек до ближайшего к этой точке центроида)\n",
    "- Средний диаметр (максимальное расстояние между точками в кластере) или радиус (расстояние от центроида до самой дальней от него точки в кластере)\n",
    "- Sihouette\n",
    "\n",
    "**Критерий качества необходимо выбрать таким образом, чтобы он подходил для реализованного алгоритма**"
   ]
  },
  {
   "cell_type": "code",
   "execution_count": 225,
   "metadata": {
    "collapsed": false,
    "deletable": true,
    "editable": true
   },
   "outputs": [
    {
     "name": "stdout",
     "output_type": "stream",
     "text": [
      "[2 4 3 1 7 8 0 0 9 3]\n",
      "[0 6 9]\n",
      "[2 0 3]\n"
     ]
    },
    {
     "data": {
      "text/plain": [
       "array([2, 4, 3, 1, 7, 8, 0, 0, 9, 3, 2, 0, 3])"
      ]
     },
     "execution_count": 225,
     "metadata": {},
     "output_type": "execute_result"
    }
   ],
   "source": [
    "a = np.array([[2,0,2],[2,2,0],[0,2,2], [1,1,1]])\n",
    "np.linalg.norm(a,axis=1)-2*np.sqrt(2)\n",
    "i = a.shape[0]\n",
    "j = a.shape[0]\n",
    "k = a.shape[1]\n",
    "p = np.zeros((i,j,k))\n",
    "p[:] = a\n",
    "ones = np.zeros(p.shape)\n",
    "for i in xrange(ones.shape[0]):\n",
    "    ones[i] = a[i]\n",
    "ones\n",
    "distances = p-ones\n",
    "result = np.zeros((i,j-1,k))\n",
    "for m in xrange(i):\n",
    "    result[m] = np.delete(distances[m],m,axis=0)\n",
    "result\n",
    "\n",
    "np.identity(i,bool)\n",
    "index = np.random.randint(2,size=10,dtype=bool)\n",
    "a = np.random.randint(10,size=10)\n",
    "print a\n",
    "print np.where(index)[0]\n",
    "print a[index]\n",
    "numpy.append(a,a[index])"
   ]
  },
  {
   "cell_type": "code",
   "execution_count": 226,
   "metadata": {
    "collapsed": false,
    "deletable": true,
    "editable": true
   },
   "outputs": [],
   "source": [
    "def quality(x, y):\n",
    "    \"\"\"\n",
    "    Implement quality criterion of your choice\n",
    "    Silhouette was implemented\n",
    "    \"\"\"\n",
    "    silhouettes = np.zeros(shape=len(x))\n",
    "    clusters_values = set(y.astype(int)) - set([Clustering.NOISE]) # у шума значение кластера NOISE\n",
    "    if len(clusters_values) == 1:\n",
    "        return 0\n",
    "    else:\n",
    "        print \"Number of clusters: {}\".format(len(clusters_values))\n",
    "        print \"Number of points: {}\".format(x.shape[0])\n",
    "    for i in xrange(0,len(x)):\n",
    "        # для каждой точки ищем silhouette и отдаем среднее\n",
    "        point = x[i]\n",
    "        other_points = numpy.delete(x,i,axis=0)\n",
    "        distances = np.linalg.norm(other_points-point, axis=1)\n",
    "        y_other = numpy.delete(y,i)\n",
    "        own_cluster_dist = distances[y_other == y[i]].mean()\n",
    "        other_clusters_dist = [distances[y_other == j].mean() for j in clusters_values - set([y[i]])]\n",
    "        min_other_dist = min(other_clusters_dist)\n",
    "        silhouettes[i] = (min_other_dist - own_cluster_dist) / max(min_other_dist,own_cluster_dist)\n",
    "    return silhouettes.mean()"
   ]
  },
  {
   "cell_type": "markdown",
   "metadata": {
    "deletable": true,
    "editable": true
   },
   "source": [
    "Применим критерий для выбора параметров алгоритма. Предлагается изменить следующий код таким образом, чтобы кластеризация вызывалась с верным набором параметров. На графике можно будет увидеть зависимость критерия от параметров алгоритма. Необходимо выбрать оптимальные значения этих параметров."
   ]
  },
  {
   "cell_type": "code",
   "execution_count": 227,
   "metadata": {
    "collapsed": true,
    "deletable": true,
    "editable": true
   },
   "outputs": [],
   "source": [
    "from line_profiler import LineProfiler\n",
    "def profile_print(func_to_call, *args):\n",
    "    profiler = LineProfiler()\n",
    "    profiler.add_function(func_to_call)\n",
    "    profiler.runcall(func_to_call, *args)\n",
    "    profiler.print_stats()"
   ]
  },
  {
   "cell_type": "code",
   "execution_count": 230,
   "metadata": {
    "collapsed": false,
    "deletable": true,
    "editable": true
   },
   "outputs": [
    {
     "name": "stdout",
     "output_type": "stream",
     "text": [
      "Number of clusters: 28\n",
      "Number of points: 5000\n",
      "0: 0.949504190177\n",
      "Number of clusters: 27\n",
      "Number of points: 5000\n",
      "1: 0.948781872904\n",
      "Number of clusters: 27\n",
      "Number of points: 5000\n",
      "2: 0.948781872904\n",
      "Number of clusters: 27\n",
      "Number of points: 5000\n",
      "3: 0.948781872904\n"
     ]
    },
    {
     "data": {
      "image/png": "[encoded data removed]",
      "text/plain": [
       "<matplotlib.figure.Figure at 0x7f57f4886e90>"
      ]
     },
     "metadata": {},
     "output_type": "display_data"
    }
   ],
   "source": [
    "ks = range(1,5)\n",
    "# eps = np.linspace(start=0.1,stop=1.5,num=15)\n",
    "eps = .7\n",
    "criteria = np.zeros(len(ks))\n",
    "\n",
    "for i, k in enumerate(ks):\n",
    "    cls = Clustering(eps=eps,min_pts=k)\n",
    "    y = cls.fit_predict(x)\n",
    "    criteria[i] = quality(x, y)\n",
    "    print \"{}: {}\".format(i,criteria[i])\n",
    "    \n",
    "pl.figure(figsize=(8, 6))\n",
    "pl.plot(ks, criteria)\n",
    "pl.title(\"$J(k)$\")\n",
    "pl.ylabel(\"Criteria $J$\")\n",
    "pl.xlabel(\"Number of clusters $k$\")\n",
    "pl.grid()\n",
    "pl.show()"
   ]
  },
  {
   "cell_type": "markdown",
   "metadata": {
    "deletable": true,
    "editable": true
   },
   "source": [
    "Далее необходимо кластеризовать данные, используя выбранное количество кластеров, и визуализировать результат с помощью T-SNE. Внимание! На полном объеме данных данный алгоритм может работать существенное время. "
   ]
  },
  {
   "cell_type": "code",
   "execution_count": 192,
   "metadata": {
    "collapsed": false,
    "deletable": true,
    "editable": true
   },
   "outputs": [
    {
     "ename": "TypeError",
     "evalue": "__init__() takes exactly 3 arguments (1 given)",
     "output_type": "error",
     "traceback": [
      "\u001b[0;31m---------------------------------------------------------------------------\u001b[0m",
      "\u001b[0;31mTypeError\u001b[0m                                 Traceback (most recent call last)",
      "\u001b[0;32m<ipython-input-192-2f9d8b30ea56>\u001b[0m in \u001b[0;36m<module>\u001b[0;34m()\u001b[0m\n\u001b[1;32m      1\u001b[0m \u001b[0mk\u001b[0m \u001b[0;34m=\u001b[0m \u001b[0;36m5\u001b[0m\u001b[0;34m\u001b[0m\u001b[0m\n\u001b[0;32m----> 2\u001b[0;31m \u001b[0mcls\u001b[0m \u001b[0;34m=\u001b[0m \u001b[0mClustering\u001b[0m\u001b[0;34m(\u001b[0m\u001b[0;34m)\u001b[0m\u001b[0;34m\u001b[0m\u001b[0m\n\u001b[0m\u001b[1;32m      3\u001b[0m \u001b[0my\u001b[0m \u001b[0;34m=\u001b[0m \u001b[0mcls\u001b[0m\u001b[0;34m.\u001b[0m\u001b[0mfit_predict\u001b[0m\u001b[0;34m(\u001b[0m\u001b[0mx\u001b[0m\u001b[0;34m)\u001b[0m\u001b[0;34m\u001b[0m\u001b[0m\n",
      "\u001b[0;31mTypeError\u001b[0m: __init__() takes exactly 3 arguments (1 given)"
     ]
    }
   ],
   "source": [
    "k = 5\n",
    "cls = Clustering()\n",
    "y = cls.fit_predict(x)"
   ]
  },
  {
   "cell_type": "markdown",
   "metadata": {
    "deletable": true,
    "editable": true
   },
   "source": [
    "Визуализируем кластеризацию на карте"
   ]
  },
  {
   "cell_type": "code",
   "execution_count": null,
   "metadata": {
    "collapsed": false,
    "deletable": true,
    "editable": true
   },
   "outputs": [],
   "source": [
    "pl.figure(figsize=(20,12))\n",
    "\n",
    "m = bm.Basemap(projection='cyl', llcrnrlat=min(x[:, 0]) - 5, urcrnrlat=max(x[:, 0]) + 5, llcrnrlon=min(x[:, 1]) - 5, urcrnrlon=max(x[:, 1]) + 5, resolution='c')\n",
    "\n",
    "m.drawcountries(linewidth=0.2)\n",
    "m.fillcontinents(color='lavender', lake_color='#000040')\n",
    "m.drawmapboundary(linewidth=0.2, fill_color='#000040')\n",
    "m.drawparallels(np.arange(-90,90,30),labels=[0,0,0,0], color='white', linewidth=0.5)\n",
    "m.drawmeridians(np.arange(0,360,30),labels=[0,0,0,0], color='white', linewidth=0.5)\n",
    "\n",
    "m.scatter(x[:, 1], x[:,0], c=y, zorder=10)\n",
    "    \n",
    "pl.show()"
   ]
  },
  {
   "cell_type": "markdown",
   "metadata": {
    "deletable": true,
    "editable": true
   },
   "source": [
    "Визуализируйте интересные участки (может быть это Москва) в приближенном виде. Постройте 3 (или более, в зависимости от данных, что вам самим бы хотелось увидеть ближе) увеличенных изображений карты с кластеризацией."
   ]
  },
  {
   "cell_type": "code",
   "execution_count": 40,
   "metadata": {
    "collapsed": true,
    "deletable": true,
    "editable": true
   },
   "outputs": [],
   "source": [
    "# your code with maps here"
   ]
  },
  {
   "cell_type": "markdown",
   "metadata": {
    "deletable": true,
    "editable": true
   },
   "source": [
    "Какой вывод можно сделать о качестве кластеризации?"
   ]
  },
  {
   "cell_type": "markdown",
   "metadata": {
    "deletable": true,
    "editable": true
   },
   "source": [
    "Поздравляем, Вы завершили домашние задания по модулю \"Алгоритмы кластеризации\". Надеемся, что это было интересно."
   ]
  }
 ],
 "metadata": {
  "kernelspec": {
   "display_name": "Python 2",
   "language": "python",
   "name": "python2"
  },
  "language_info": {
   "codemirror_mode": {
    "name": "ipython",
    "version": 2
   },
   "file_extension": ".py",
   "mimetype": "text/x-python",
   "name": "python",
   "nbconvert_exporter": "python",
   "pygments_lexer": "ipython2",
   "version": "2.7.12"
  }
 },
 "nbformat": 4,
 "nbformat_minor": 0
}
